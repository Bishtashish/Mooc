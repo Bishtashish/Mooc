{
 "cells": [
  {
   "cell_type": "code",
   "execution_count": 20,
   "metadata": {
    "collapsed": false
   },
   "outputs": [
    {
     "name": "stdout",
     "output_type": "stream",
     "text": [
      "[['', 'year', 'month', 'intent', 'police', 'sex', 'age', 'race', 'hispanic', 'place', 'education'], ['1', '2012', '01', 'Suicide', '0', 'M', '34', 'Asian/Pacific Islander', '100', 'Home', '4'], ['2', '2012', '01', 'Suicide', '0', 'F', '21', 'White', '100', 'Street', '3'], ['3', '2012', '01', 'Suicide', '0', 'M', '60', 'White', '100', 'Other specified', '4'], ['4', '2012', '02', 'Suicide', '0', 'M', '64', 'White', '100', 'Home', '4']]\n"
     ]
    }
   ],
   "source": [
    "# 1.Introducing US Gun Deaths Data\n",
    "import csv\n",
    "data = list(csv.reader(open(\"guns.csv\")))\n",
    "print(data[0:5])"
   ]
  },
  {
   "cell_type": "code",
   "execution_count": 21,
   "metadata": {
    "collapsed": false,
    "scrolled": false
   },
   "outputs": [
    {
     "name": "stdout",
     "output_type": "stream",
     "text": [
      "['', 'year', 'month', 'intent', 'police', 'sex', 'age', 'race', 'hispanic', 'place', 'education']\n",
      "----------\n",
      "[['1', '2012', '01', 'Suicide', '0', 'M', '34', 'Asian/Pacific Islander', '100', 'Home', '4'], ['2', '2012', '01', 'Suicide', '0', 'F', '21', 'White', '100', 'Street', '3'], ['3', '2012', '01', 'Suicide', '0', 'M', '60', 'White', '100', 'Other specified', '4'], ['4', '2012', '02', 'Suicide', '0', 'M', '64', 'White', '100', 'Home', '4'], ['5', '2012', '02', 'Suicide', '0', 'M', '31', 'White', '100', 'Other specified', '2']]\n"
     ]
    }
   ],
   "source": [
    "# 2. Removing Headers From A List Of Lists\n",
    "headers = data[0]\n",
    "data = data[1:len(data)]\n",
    "print(headers)\n",
    "print(\"----------\")\n",
    "print(data[0:5])"
   ]
  },
  {
   "cell_type": "code",
   "execution_count": 22,
   "metadata": {
    "collapsed": false
   },
   "outputs": [
    {
     "name": "stdout",
     "output_type": "stream",
     "text": [
      "['2012', '2012', '2012', '2012', '2012']\n",
      "------------\n",
      "{'2014': 33599, '2013': 33636, '2012': 33563}\n"
     ]
    }
   ],
   "source": [
    "# 3.Counting Gun Deaths By Year\n",
    "years = [ row[1] for row in data ]\n",
    "year_counts = {}\n",
    "for year in years:\n",
    "    if year in year_counts:\n",
    "        year_counts[year] += 1\n",
    "    else:\n",
    "        year_counts[year] = 1\n",
    "print(years[0:5])\n",
    "print(\"------------\")\n",
    "print(year_counts)"
   ]
  },
  {
   "cell_type": "code",
   "execution_count": 23,
   "metadata": {
    "collapsed": false
   },
   "outputs": [
    {
     "name": "stdout",
     "output_type": "stream",
     "text": [
      "['January, 2012', 'January, 2012', 'January, 2012', 'February, 2012', 'February, 2012']\n",
      "------------\n",
      "{'March, 2013': 2862, 'March, 2014': 2684, 'September, 2014': 2914, 'April, 2014': 2862, 'July, 2013': 3079, 'November, 2014': 2756, 'June, 2012': 2826, 'August, 2014': 2970, 'August, 2012': 2954, 'October, 2014': 2865, 'May, 2014': 2864, 'December, 2013': 2765, 'May, 2012': 2999, 'February, 2012': 2357, 'April, 2013': 2798, 'December, 2012': 2791, 'October, 2012': 2733, 'June, 2013': 2920, 'September, 2013': 2742, 'January, 2013': 2864, 'November, 2012': 2729, 'February, 2013': 2375, 'July, 2014': 2884, 'September, 2012': 2852, 'January, 2012': 2758, 'December, 2014': 2857, 'October, 2013': 2808, 'February, 2014': 2361, 'April, 2012': 2795, 'November, 2013': 2758, 'June, 2014': 2931, 'May, 2013': 2806, 'January, 2014': 2651, 'August, 2013': 2859, 'March, 2012': 2743, 'July, 2012': 3026}\n"
     ]
    }
   ],
   "source": [
    "# 4.Exploring Gun Deaths By Month And Year\n",
    "from datetime import datetime\n",
    "date = [ datetime(year=int(row[1]), month=int(row[2]), day=1).strftime(\"%B, %Y\") for row in data ]\n",
    "print(date[0:5])\n",
    "print(\"------------\")\n",
    "date_counts = {}\n",
    "for dat in date:\n",
    "    if dat in date_counts:\n",
    "        date_counts[dat] += 1\n",
    "    else:\n",
    "        date_counts[dat] = 1\n",
    "print(date_counts)"
   ]
  },
  {
   "cell_type": "code",
   "execution_count": 24,
   "metadata": {
    "collapsed": false
   },
   "outputs": [
    {
     "name": "stdout",
     "output_type": "stream",
     "text": [
      "------------\n",
      "{'F': 14449, 'M': 86349}\n",
      "------------\n",
      "{'Asian/Pacific Islander': 1326, 'Black': 23296, 'White': 66237, 'Native American/Native Alaskan': 917, 'Hispanic': 9022}\n"
     ]
    }
   ],
   "source": [
    "# 5.Exploring Gun Deaths By Race And Sex\n",
    "print(\"------------\")\n",
    "sex_counts = {}\n",
    "for sex in data:\n",
    "    if sex[5] in sex_counts:\n",
    "        sex_counts[sex[5]] += 1\n",
    "    else:\n",
    "        sex_counts[sex[5]] = 1\n",
    "print(sex_counts)\n",
    "print(\"------------\")\n",
    "race_counts = {}\n",
    "for race in data:\n",
    "    if race[7] in race_counts:\n",
    "        race_counts[race[7]] += 1\n",
    "    else:\n",
    "        race_counts[race[7]] = 1\n",
    "print(race_counts)"
   ]
  },
  {
   "cell_type": "markdown",
   "metadata": {},
   "source": [
    "I tkink it can be good to add some plots and functions to the code"
   ]
  },
  {
   "cell_type": "code",
   "execution_count": 25,
   "metadata": {
    "collapsed": false
   },
   "outputs": [
    {
     "name": "stdout",
     "output_type": "stream",
     "text": [
      "[['Id', 'Year', 'Id', 'Sex', 'Id', 'Hispanic Origin', 'Id', 'Id2', 'Geography', 'Total', 'Race Alone - White', 'Race Alone - Hispanic', 'Race Alone - Black or African American', 'Race Alone - American Indian and Alaska Native', 'Race Alone - Asian', 'Race Alone - Native Hawaiian and Other Pacific Islander', 'Two or More Races'], ['cen42010', 'April 1, 2010 Census', 'totsex', 'Both Sexes', 'tothisp', 'Total', '0100000US', '', 'United States', '308745538', '197318956', '44618105', '40250635', '3739506', '15159516', '674625', '6984195']]\n"
     ]
    }
   ],
   "source": [
    "# 6.Reading In A Second Dataset\n",
    "census = list(csv.reader(open(\"census.csv\")))\n",
    "print(census)"
   ]
  },
  {
   "cell_type": "code",
   "execution_count": 29,
   "metadata": {
    "collapsed": false
   },
   "outputs": [
    {
     "name": "stdout",
     "output_type": "stream",
     "text": [
      "{'Asian/Pacific Islander': 15834141, 'Black': 40250635, 'White': 197318956, 'Native American/Native Alaskan': 3739506, 'Hispanic': 44618105}\n",
      "------------\n",
      "{'Asian/Pacific Islander': 8.374309664161762, 'Black': 57.8773477735196, 'White': 33.56849303419181, 'Native American/Native Alaskan': 24.521955573811088, 'Hispanic': 20.220491210910907}\n"
     ]
    }
   ],
   "source": [
    "AsianPacificIslander = 15159516+674625\n",
    "mapping = {\n",
    "    \"Asian/Pacific Islander\":AsianPacificIslander,\n",
    "    \"Black\":40250635,\n",
    "    \"Native American/Native Alaskan\":3739506,\n",
    "    \"Hispanic\":44618105,\n",
    "    \"White\":197318956\n",
    "}\n",
    "print(mapping)\n",
    "print(\"------------\")\n",
    "race_per_hundredk = {}\n",
    "for key,value in race_counts.items():\n",
    "    race_per_hundredk[key] = (value / mapping[key]) * 100000\n",
    "print(race_per_hundredk)"
   ]
  },
  {
   "cell_type": "code",
   "execution_count": 33,
   "metadata": {
    "collapsed": false
   },
   "outputs": [
    {
     "name": "stdout",
     "output_type": "stream",
     "text": [
      "['Suicide', 'Suicide', 'Suicide', 'Suicide', 'Suicide']\n",
      "--------------\n",
      "['Asian/Pacific Islander', 'White', 'White', 'White', 'White']\n",
      "--------------\n"
     ]
    },
    {
     "ename": "NameError",
     "evalue": "name 'enumrate' is not defined",
     "output_type": "error",
     "traceback": [
      "\u001b[1;31m\u001b[0m",
      "\u001b[1;31mNameError\u001b[0mTraceback (most recent call last)",
      "\u001b[1;32m<ipython-input-33-74fce8a7b9b5>\u001b[0m in \u001b[0;36m<module>\u001b[1;34m()\u001b[0m\n\u001b[0;32m      9\u001b[0m \u001b[1;33m\u001b[0m\u001b[0m\n\u001b[0;32m     10\u001b[0m \u001b[0mhomicide_race_per_hundredk\u001b[0m \u001b[1;33m=\u001b[0m \u001b[1;33m{\u001b[0m\u001b[1;33m}\u001b[0m\u001b[1;33m\u001b[0m\u001b[0m\n\u001b[1;32m---> 11\u001b[1;33m \u001b[1;32mfor\u001b[0m \u001b[0mi\u001b[0m \u001b[1;32min\u001b[0m \u001b[0menumrate\u001b[0m\u001b[1;33m(\u001b[0m\u001b[0mraces\u001b[0m\u001b[1;33m)\u001b[0m\u001b[1;33m:\u001b[0m\u001b[1;33m\u001b[0m\u001b[0m\n\u001b[0m\u001b[0;32m     12\u001b[0m     \u001b[1;32mif\u001b[0m \u001b[0mintents\u001b[0m\u001b[1;33m[\u001b[0m\u001b[0mi\u001b[0m\u001b[1;33m]\u001b[0m \u001b[1;33m==\u001b[0m \u001b[1;34m\"Homicide\"\u001b[0m\u001b[1;33m:\u001b[0m\u001b[1;33m\u001b[0m\u001b[0m\n\u001b[0;32m     13\u001b[0m         \u001b[1;32mif\u001b[0m \u001b[0mraces\u001b[0m\u001b[1;33m[\u001b[0m\u001b[0mi\u001b[0m\u001b[1;33m]\u001b[0m \u001b[1;32min\u001b[0m \u001b[0mhomicide_race_per_hundredk\u001b[0m\u001b[1;33m:\u001b[0m\u001b[1;33m\u001b[0m\u001b[0m\n",
      "\u001b[1;31mNameError\u001b[0m: name 'enumrate' is not defined"
     ]
    }
   ],
   "source": [
    "# 8.Filtering By Intent\n",
    "intents = [ row[3] for row in data ]\n",
    "print(intents[0:5])\n",
    "print(\"--------------\")\n",
    "\n",
    "races = [ row[7] for row in data ]\n",
    "print(races[0:5])\n",
    "print(\"--------------\")\n",
    "\n",
    "homicide_race_per_hundredk = {}\n",
    "for i in enumrate(races):\n",
    "    if intents[i] == \"Homicide\":\n",
    "        if races[i] in homicide_race_per_hundredk:\n",
    "            homicide_race_per_hundredk[races[i]] += 1\n",
    "        else:\n",
    "            homicide_race_per_hundredk[races[i]] = 1\n",
    "print(homicide_race_per_hundredk)\n",
    "print(\"--------------\")\n",
    "\n",
    "race_counts = {}\n",
    "for race in data:\n",
    "    if race[3] == \"Homicide\":\n",
    "        if race[7] in race_counts:\n",
    "            race_counts[race[7]] += 1\n",
    "        else:\n",
    "            race_counts[race[7]] = 1\n",
    "print(race_counts)\n",
    "print(\"--------------\")"
   ]
  },
  {
   "cell_type": "code",
   "execution_count": null,
   "metadata": {
    "collapsed": true
   },
   "outputs": [],
   "source": []
  }
 ],
 "metadata": {
  "kernelspec": {
   "display_name": "Python 3",
   "language": "python",
   "name": "python3"
  },
  "language_info": {
   "codemirror_mode": {
    "name": "ipython",
    "version": 3
   },
   "file_extension": ".py",
   "mimetype": "text/x-python",
   "name": "python",
   "nbconvert_exporter": "python",
   "pygments_lexer": "ipython3",
   "version": "3.4.3"
  }
 },
 "nbformat": 4,
 "nbformat_minor": 0
}

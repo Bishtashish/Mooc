{
 "cells": [
  {
   "cell_type": "code",
   "execution_count": 1,
   "metadata": {
    "collapsed": false
   },
   "outputs": [
    {
     "name": "stdout",
     "output_type": "stream",
     "text": [
      "   RespondentID Do you celebrate Thanksgiving?  \\\n",
      "0    4337954960                            Yes   \n",
      "1    4337951949                            Yes   \n",
      "2    4337935621                            Yes   \n",
      "\n",
      "  What is typically the main dish at your Thanksgiving dinner?  \\\n",
      "0                                             Turkey             \n",
      "1                                             Turkey             \n",
      "2                                             Turkey             \n",
      "\n",
      "  What is typically the main dish at your Thanksgiving dinner? - Other (please specify)  \\\n",
      "0                                                NaN                                      \n",
      "1                                                NaN                                      \n",
      "2                                                NaN                                      \n",
      "\n",
      "  How is the main dish typically cooked?  \\\n",
      "0                                  Baked   \n",
      "1                                  Baked   \n",
      "2                                Roasted   \n",
      "\n",
      "  How is the main dish typically cooked? - Other (please specify)  \\\n",
      "0                                                NaN                \n",
      "1                                                NaN                \n",
      "2                                                NaN                \n",
      "\n",
      "  What kind of stuffing/dressing do you typically have?  \\\n",
      "0                                        Bread-based      \n",
      "1                                        Bread-based      \n",
      "2                                         Rice-based      \n",
      "\n",
      "  What kind of stuffing/dressing do you typically have? - Other (please specify)  \\\n",
      "0                                                NaN                               \n",
      "1                                                NaN                               \n",
      "2                                                NaN                               \n",
      "\n",
      "  What type of cranberry saucedo you typically have?  \\\n",
      "0                                               None   \n",
      "1                             Other (please specify)   \n",
      "2                                           Homemade   \n",
      "\n",
      "  What type of cranberry saucedo you typically have? - Other (please specify)  \\\n",
      "0                                                NaN                            \n",
      "1                    Homemade cranberry gelatin ring                            \n",
      "2                                                NaN                            \n",
      "\n",
      "          ...          \\\n",
      "0         ...           \n",
      "1         ...           \n",
      "2         ...           \n",
      "\n",
      "  Have you ever tried to meet up with hometown friends on Thanksgiving night?  \\\n",
      "0                                                Yes                            \n",
      "1                                                 No                            \n",
      "2                                                Yes                            \n",
      "\n",
      "  Have you ever attended a \"Friendsgiving?\"  \\\n",
      "0                                        No   \n",
      "1                                        No   \n",
      "2                                       Yes   \n",
      "\n",
      "  Will you shop any Black Friday sales on Thanksgiving Day?  \\\n",
      "0                                                 No          \n",
      "1                                                Yes          \n",
      "2                                                Yes          \n",
      "\n",
      "  Do you work in retail? Will you employer make you work on Black Friday?  \\\n",
      "0                     No                                              NaN   \n",
      "1                     No                                              NaN   \n",
      "2                     No                                              NaN   \n",
      "\n",
      "  How would you describe where you live?      Age What is your gender?  \\\n",
      "0                               Suburban  18 - 29                 Male   \n",
      "1                                  Rural  18 - 29               Female   \n",
      "2                               Suburban  18 - 29                 Male   \n",
      "\n",
      "  How much total combined money did all members of your HOUSEHOLD earn last year?  \\\n",
      "0                                 $75,000 to $99,999                                \n",
      "1                                 $50,000 to $74,999                                \n",
      "2                                       $0 to $9,999                                \n",
      "\n",
      "            US Region  \n",
      "0     Middle Atlantic  \n",
      "1  East South Central  \n",
      "2            Mountain  \n",
      "\n",
      "[3 rows x 65 columns]\n"
     ]
    }
   ],
   "source": [
    "# 1: Introducing Thanksgiving Dinner Data\n",
    "# Import and read data from csv file\n",
    "import pandas as pd\n",
    "data = pd.read_csv(\"thanksgiving.csv\",encoding=\"Latin-1\")\n",
    "print(data.head(3))\n"
   ]
  },
  {
   "cell_type": "code",
   "execution_count": 2,
   "metadata": {
    "collapsed": false
   },
   "outputs": [
    {
     "name": "stdout",
     "output_type": "stream",
     "text": [
      "RespondentID\n",
      "Do you celebrate Thanksgiving?\n",
      "What is typically the main dish at your Thanksgiving dinner?\n",
      "What is typically the main dish at your Thanksgiving dinner? - Other (please specify)\n",
      "How is the main dish typically cooked?\n",
      "How is the main dish typically cooked? - Other (please specify)\n",
      "What kind of stuffing/dressing do you typically have?\n",
      "What kind of stuffing/dressing do you typically have? - Other (please specify)\n",
      "What type of cranberry saucedo you typically have?\n",
      "What type of cranberry saucedo you typically have? - Other (please specify)\n",
      "Do you typically have gravy?\n",
      "Which of these side dishes aretypically served at your Thanksgiving dinner? Please select all that apply. - Brussel sprouts\n",
      "Which of these side dishes aretypically served at your Thanksgiving dinner? Please select all that apply. - Carrots\n",
      "Which of these side dishes aretypically served at your Thanksgiving dinner? Please select all that apply. - Cauliflower\n",
      "Which of these side dishes aretypically served at your Thanksgiving dinner? Please select all that apply. - Corn\n",
      "Which of these side dishes aretypically served at your Thanksgiving dinner? Please select all that apply. - Cornbread\n",
      "Which of these side dishes aretypically served at your Thanksgiving dinner? Please select all that apply. - Fruit salad\n",
      "Which of these side dishes aretypically served at your Thanksgiving dinner? Please select all that apply. - Green beans/green bean casserole\n",
      "Which of these side dishes aretypically served at your Thanksgiving dinner? Please select all that apply. - Macaroni and cheese\n",
      "Which of these side dishes aretypically served at your Thanksgiving dinner? Please select all that apply. - Mashed potatoes\n",
      "Which of these side dishes aretypically served at your Thanksgiving dinner? Please select all that apply. - Rolls/biscuits\n",
      "Which of these side dishes aretypically served at your Thanksgiving dinner? Please select all that apply. - Squash\n",
      "Which of these side dishes aretypically served at your Thanksgiving dinner? Please select all that apply. - Vegetable salad\n",
      "Which of these side dishes aretypically served at your Thanksgiving dinner? Please select all that apply. - Yams/sweet potato casserole\n",
      "Which of these side dishes aretypically served at your Thanksgiving dinner? Please select all that apply. - Other (please specify)\n",
      "Which of these side dishes aretypically served at your Thanksgiving dinner? Please select all that apply. - Other (please specify).1\n",
      "Which type of pie is typically served at your Thanksgiving dinner? Please select all that apply. - Apple\n",
      "Which type of pie is typically served at your Thanksgiving dinner? Please select all that apply. - Buttermilk\n",
      "Which type of pie is typically served at your Thanksgiving dinner? Please select all that apply. - Cherry\n",
      "Which type of pie is typically served at your Thanksgiving dinner? Please select all that apply. - Chocolate\n",
      "Which type of pie is typically served at your Thanksgiving dinner? Please select all that apply. - Coconut cream\n",
      "Which type of pie is typically served at your Thanksgiving dinner? Please select all that apply. - Key lime\n",
      "Which type of pie is typically served at your Thanksgiving dinner? Please select all that apply. - Peach\n",
      "Which type of pie is typically served at your Thanksgiving dinner? Please select all that apply. - Pecan\n",
      "Which type of pie is typically served at your Thanksgiving dinner? Please select all that apply. - Pumpkin\n",
      "Which type of pie is typically served at your Thanksgiving dinner? Please select all that apply. - Sweet Potato\n",
      "Which type of pie is typically served at your Thanksgiving dinner? Please select all that apply. - None\n",
      "Which type of pie is typically served at your Thanksgiving dinner? Please select all that apply. - Other (please specify)\n",
      "Which type of pie is typically served at your Thanksgiving dinner? Please select all that apply. - Other (please specify).1\n",
      "Which of these desserts do you typically have at Thanksgiving dinner? Please select all that apply.   - Apple cobbler\n",
      "Which of these desserts do you typically have at Thanksgiving dinner? Please select all that apply.   - Blondies\n",
      "Which of these desserts do you typically have at Thanksgiving dinner? Please select all that apply.   - Brownies\n",
      "Which of these desserts do you typically have at Thanksgiving dinner? Please select all that apply.   - Carrot cake\n",
      "Which of these desserts do you typically have at Thanksgiving dinner? Please select all that apply.   - Cheesecake\n",
      "Which of these desserts do you typically have at Thanksgiving dinner? Please select all that apply.   - Cookies\n",
      "Which of these desserts do you typically have at Thanksgiving dinner? Please select all that apply.   - Fudge\n",
      "Which of these desserts do you typically have at Thanksgiving dinner? Please select all that apply.   - Ice cream\n",
      "Which of these desserts do you typically have at Thanksgiving dinner? Please select all that apply.   - Peach cobbler\n",
      "Which of these desserts do you typically have at Thanksgiving dinner? Please select all that apply.   - None\n",
      "Which of these desserts do you typically have at Thanksgiving dinner? Please select all that apply.   - Other (please specify)\n",
      "Which of these desserts do you typically have at Thanksgiving dinner? Please select all that apply.   - Other (please specify).1\n",
      "Do you typically pray before or after the Thanksgiving meal?\n",
      "How far will you travel for Thanksgiving?\n",
      "Will you watch any of the following programs on Thanksgiving? Please select all that apply. - Macy's Parade\n",
      "What's the age cutoff at your \"kids' table\" at Thanksgiving?\n",
      "Have you ever tried to meet up with hometown friends on Thanksgiving night?\n",
      "Have you ever attended a \"Friendsgiving?\"\n",
      "Will you shop any Black Friday sales on Thanksgiving Day?\n",
      "Do you work in retail?\n",
      "Will you employer make you work on Black Friday?\n",
      "How would you describe where you live?\n",
      "Age\n",
      "What is your gender?\n",
      "How much total combined money did all members of your HOUSEHOLD earn last year?\n",
      "US Region\n"
     ]
    }
   ],
   "source": [
    " # Columns names from the Data Dataframes\n",
    "columns = data.columns.tolist()\n",
    "for col in columns:\n",
    "    print(col)"
   ]
  },
  {
   "cell_type": "code",
   "execution_count": 3,
   "metadata": {
    "collapsed": false
   },
   "outputs": [
    {
     "name": "stdout",
     "output_type": "stream",
     "text": [
      "<class 'pandas.core.series.Series'>\n",
      "----------------\n",
      "0    Yes\n",
      "1    Yes\n",
      "2    Yes\n",
      "3    Yes\n",
      "4    Yes\n",
      "Name: Do you celebrate Thanksgiving?, dtype: object\n",
      "----------------\n",
      "Yes    980\n",
      "No      78\n",
      "Name: Do you celebrate Thanksgiving?, dtype: int64\n",
      "----------------\n",
      "Yes    980\n",
      "Name: Do you celebrate Thanksgiving?, dtype: int64\n"
     ]
    }
   ],
   "source": [
    "# 2: Filtering Out Rows From A DataFrame\n",
    "# Filter data where : Do you celebrate Thanksgiving? is not Yes\n",
    "# 2.1 Extract pandas series from the dataframe data :\n",
    "dyct = data[\"Do you celebrate Thanksgiving?\"]\n",
    "print(type(dyct))\n",
    "print(\"----------------\")\n",
    "print(dyct[0:5])\n",
    "print(\"----------------\")\n",
    "print(dyct.value_counts())\n",
    "print(\"----------------\")\n",
    "# 2.2 Filter the dataframe data\n",
    "dyct_yes = data[\"Do you celebrate Thanksgiving?\"] == \"Yes\"\n",
    "data = data[dyct_yes]\n",
    "# verification :\n",
    "print(data[\"Do you celebrate Thanksgiving?\"].value_counts())"
   ]
  },
  {
   "cell_type": "code",
   "execution_count": 4,
   "metadata": {
    "collapsed": false
   },
   "outputs": [
    {
     "name": "stdout",
     "output_type": "stream",
     "text": [
      "Turkey                    859\n",
      "Other (please specify)     35\n",
      "Ham/Pork                   29\n",
      "Tofurkey                   20\n",
      "Chicken                    12\n",
      "Roast beef                 11\n",
      "I don't know                5\n",
      "Turducken                   3\n",
      "Name: What is typically the main dish at your Thanksgiving dinner?, dtype: int64\n",
      "4      Yes\n",
      "33     Yes\n",
      "69      No\n",
      "72      No\n",
      "77     Yes\n",
      "145    Yes\n",
      "175    Yes\n",
      "218     No\n",
      "243    Yes\n",
      "275     No\n",
      "393    Yes\n",
      "399    Yes\n",
      "571    Yes\n",
      "594    Yes\n",
      "628     No\n",
      "774     No\n",
      "820     No\n",
      "837    Yes\n",
      "860     No\n",
      "953    Yes\n",
      "Name: Do you typically have gravy?, dtype: object\n"
     ]
    }
   ],
   "source": [
    "# 3: Using Value_counts To Explore Main Dishes\n",
    "# 3.1: Display counts of each category\n",
    "print(data[\"What is typically the main dish at your Thanksgiving dinner?\"].value_counts())\n",
    "# 3.2: Filter row on column : What is typically the main dish at your Thanksgiving dinner? \n",
    "# equal to : \"Tofurkey\"\n",
    "tofurkey = data[\"What is typically the main dish at your Thanksgiving dinner?\"] == \"Tofurkey\"\n",
    "print(data[\"Do you typically have gravy?\"][tofurkey])\n"
   ]
  },
  {
   "cell_type": "code",
   "execution_count": 5,
   "metadata": {
    "collapsed": false
   },
   "outputs": [
    {
     "name": "stdout",
     "output_type": "stream",
     "text": [
      "0    False\n",
      "1    False\n",
      "2    False\n",
      "3     True\n",
      "4    False\n",
      "Name: Which type of pie is typically served at your Thanksgiving dinner? Please select all that apply. - Apple, dtype: bool\n",
      "--------------------\n",
      "0     True\n",
      "1    False\n",
      "2    False\n",
      "3    False\n",
      "4    False\n",
      "Name: Which type of pie is typically served at your Thanksgiving dinner? Please select all that apply. - Pumpkin, dtype: bool\n",
      "--------------------\n",
      "0     True\n",
      "1     True\n",
      "2    False\n",
      "3    False\n",
      "4     True\n",
      "Name: Which type of pie is typically served at your Thanksgiving dinner? Please select all that apply. - Pecan, dtype: bool\n",
      "--------------------\n",
      "0    False\n",
      "1    False\n",
      "2    False\n",
      "3    False\n",
      "4    False\n",
      "dtype: bool\n",
      "--------------------\n",
      "False    876\n",
      "True     104\n",
      "dtype: int64\n"
     ]
    }
   ],
   "source": [
    "# 4: Figuring Out What Pies People Eat\n",
    "# 4.1: Boolean series :\n",
    "col1 = \"Which type of pie is typically served at your Thanksgiving dinner? Please select all that apply. - Apple\"\n",
    "apple_isnull = pd.isnull(data[col1])\n",
    "print(apple_isnull[0:5])\n",
    "print(\"--------------------\")\n",
    "col2 = \"Which type of pie is typically served at your Thanksgiving dinner? Please select all that apply. - Pumpkin\"\n",
    "pumpkin_isnull = pd.isnull(data[col2])\n",
    "print(pumpkin_isnull[0:5])\n",
    "print(\"--------------------\")\n",
    "col3 = \"Which type of pie is typically served at your Thanksgiving dinner? Please select all that apply. - Pecan\"\n",
    "pecan_isnull = pd.isnull(data[col3])\n",
    "print(pecan_isnull[0:5])\n",
    "print(\"--------------------\")\n",
    "# 4.2 Join boolean series\n",
    "ate_pies = apple_isnull & pumpkin_isnull & pecan_isnull\n",
    "print(ate_pies[0:5])\n",
    "print(\"--------------------\")\n",
    "print(ate_pies.value_counts())"
   ]
  },
  {
   "cell_type": "code",
   "execution_count": 6,
   "metadata": {
    "collapsed": false
   },
   "outputs": [
    {
     "name": "stdout",
     "output_type": "stream",
     "text": [
      "--------------------\n",
      "45 - 59    269\n",
      "60+        258\n",
      "30 - 44    235\n",
      "18 - 29    185\n",
      "Name: Age, dtype: int64\n",
      "--------------------\n",
      "['18 - 29', '30 - 44', '60+', '45 - 59', nan]\n",
      "--------------------\n",
      "count         947\n",
      "unique          4\n",
      "top       45 - 59\n",
      "freq          269\n",
      "Name: Age, dtype: object\n",
      "--------------------\n",
      "--------------------\n",
      " 45.0    269\n",
      " 60.0    258\n",
      " 30.0    235\n",
      " 18.0    185\n",
      "NaN       33\n",
      "Name: int_age, dtype: int64\n",
      "--------------------\n",
      "count    947.000000\n",
      "mean      40.089757\n",
      "std       15.352014\n",
      "min       18.000000\n",
      "25%       30.000000\n",
      "50%       45.000000\n",
      "75%       60.000000\n",
      "max       60.000000\n",
      "Name: int_age, dtype: float64\n",
      "--------------------\n",
      "[18.0, 30.0, 60.0, 45.0, nan]\n"
     ]
    }
   ],
   "source": [
    "# 5: Converting Age To Numeric\n",
    "print(\"--------------------\")\n",
    "print(data[\"Age\"].value_counts())\n",
    "print(\"--------------------\")\n",
    "print(data[\"Age\"].unique().tolist())\n",
    "print(\"--------------------\")\n",
    "print(data[\"Age\"].describe())\n",
    "print(\"--------------------\")\n",
    "# Function to convert single string to an appropriate integer value\n",
    "import re\n",
    "def colagetointeger(str):\n",
    "    if pd.isnull(str):\n",
    "        return None\n",
    "    else:\n",
    "        splitstr = str.split(\"-\")\n",
    "        if re.search(\"..+\", splitstr[0]) is not None:\n",
    "             splitstr[0] = splitstr[0].replace(\"+\", \"\")\n",
    "        return int(splitstr[0])\n",
    "\n",
    "data[\"int_age\"] = data[\"Age\"].apply(colagetointeger)\n",
    "print(\"--------------------\")\n",
    "print(data[\"int_age\"].value_counts(dropna=False))\n",
    "print(\"--------------------\")\n",
    "print(data[\"int_age\"].describe())\n",
    "print(\"--------------------\")\n",
    "print(data[\"int_age\"].unique().tolist())\n",
    "\n",
    "\n"
   ]
  },
  {
   "cell_type": "code",
   "execution_count": 7,
   "metadata": {
    "collapsed": false
   },
   "outputs": [
    {
     "name": "stdout",
     "output_type": "stream",
     "text": [
      "$25,000 to $49,999      166\n",
      "$50,000 to $74,999      127\n",
      "$75,000 to $99,999      127\n",
      "Prefer not to answer    118\n",
      "$100,000 to $124,999    109\n",
      "$200,000 and up          76\n",
      "$10,000 to $24,999       60\n",
      "$0 to $9,999             52\n",
      "$125,000 to $149,999     48\n",
      "$150,000 to $174,999     38\n",
      "NaN                      33\n",
      "$175,000 to $199,999     26\n",
      "Name: How much total combined money did all members of your HOUSEHOLD earn last year?, dtype: int64\n",
      "----------------\n",
      "--------------------\n",
      " 25000.0     166\n",
      "NaN          151\n",
      " 75000.0     127\n",
      " 50000.0     127\n",
      " 100000.0    109\n",
      " 200000.0     76\n",
      " 10000.0      60\n",
      " 0.0          52\n",
      " 125000.0     48\n",
      " 150000.0     38\n",
      " 175000.0     26\n",
      "Name: int_income, dtype: int64\n",
      "--------------------\n",
      "count       829.000000\n",
      "mean      75965.018094\n",
      "std       59068.636748\n",
      "min           0.000000\n",
      "25%       25000.000000\n",
      "50%       75000.000000\n",
      "75%      100000.000000\n",
      "max      200000.000000\n",
      "Name: int_income, dtype: float64\n",
      "--------------------\n",
      "[75000.0, 50000.0, 0.0, 200000.0, 100000.0, 25000.0, nan, 10000.0, 175000.0, 150000.0, 125000.0]\n"
     ]
    }
   ],
   "source": [
    "# 6: Converting Income To Numeric\n",
    "print(data[\"How much total combined money did all members of your HOUSEHOLD earn last year?\"].value_counts(dropna=False))\n",
    "print(\"----------------\")\n",
    "\n",
    "def colincometointeger(income):\n",
    "    if pd.isnull(income):\n",
    "        return None\n",
    "    else:\n",
    "        splitincome = income.split()[0]\n",
    "        if splitincome == \"Prefer\":\n",
    "            return None\n",
    "        else:\n",
    "            splitincome = int(splitincome.replace(\"$\", \"\").replace(\",\", \"\"))\n",
    "            return splitincome\n",
    "\n",
    "col = \"How much total combined money did all members of your HOUSEHOLD earn last year?\" \n",
    "new_col = \"int_income\"\n",
    "data[new_col] = data[col].apply(colincometointeger)\n",
    "print(\"--------------------\")\n",
    "print(data[new_col].value_counts(dropna=False))\n",
    "print(\"--------------------\")\n",
    "print(data[new_col].describe())\n",
    "print(\"--------------------\")\n",
    "print(data[new_col].unique().tolist())"
   ]
  },
  {
   "cell_type": "code",
   "execution_count": 11,
   "metadata": {
    "collapsed": false
   },
   "outputs": [
    {
     "name": "stdout",
     "output_type": "stream",
     "text": [
      "Thanksgiving is happening at my home--I won't travel at all                         281\n",
      "Thanksgiving is local--it will take place in the town I live in                     203\n",
      "Thanksgiving is out of town but not too far--it's a drive of a few hours or less    150\n",
      "Thanksgiving is out of town and far away--I have to drive several hours or fly       55\n",
      "Name: How far will you travel for Thanksgiving?, dtype: int64\n",
      "---------------------\n",
      "Thanksgiving is happening at my home--I won't travel at all                         66\n",
      "Thanksgiving is local--it will take place in the town I live in                     34\n",
      "Thanksgiving is out of town but not too far--it's a drive of a few hours or less    25\n",
      "Thanksgiving is out of town and far away--I have to drive several hours or fly      15\n",
      "Name: How far will you travel for Thanksgiving?, dtype: int64\n"
     ]
    }
   ],
   "source": [
    "# 7: Correlating Travel Distance And Income\n",
    "filter1 = data[\"int_income\"] < 150000\n",
    "rowfiltering = data[\"How far will you travel for Thanksgiving?\"][filter1]\n",
    "print(rowfiltering.value_counts())\n",
    "print(\"---------------------\")\n",
    "filter2 = data[\"int_income\"] >= 150000\n",
    "rowfiltering2 = data[\"How far will you travel for Thanksgiving?\"][filter2]\n",
    "print(rowfiltering2.value_counts())"
   ]
  },
  {
   "cell_type": "markdown",
   "metadata": {},
   "source": [
    "It seems more the income is highter more thanksgiving happend at home."
   ]
  },
  {
   "cell_type": "code",
   "execution_count": 14,
   "metadata": {
    "collapsed": false
   },
   "outputs": [
    {
     "name": "stdout",
     "output_type": "stream",
     "text": [
      "Have you ever attended a \"Friendsgiving?\"                  No        Yes\n",
      "Have you ever tried to meet up with hometown fr...                      \n",
      "No                                                  42.283702  37.010526\n",
      "Yes                                                 41.475410  33.976744\n",
      "-----------------\n",
      "Have you ever attended a \"Friendsgiving?\"                     No           Yes\n",
      "Have you ever tried to meet up with hometown fr...                            \n",
      "No                                                  78914.549654  72894.736842\n",
      "Yes                                                 78750.000000  66019.736842\n"
     ]
    }
   ],
   "source": [
    "# 8: Linking Friendship And Age\n",
    "import numpy as np\n",
    "# Average age\n",
    "# by Have you ever tried to meet up with hometown friends on Thanksgiving night? and Have you ever attended a \"Friendsgiving?\n",
    "print(data.pivot_table(\n",
    "    index=\"Have you ever tried to meet up with hometown friends on Thanksgiving night?\", \n",
    "    columns='Have you ever attended a \"Friendsgiving?\"',\n",
    "    values=\"int_age\",\n",
    "    aggfunc=np.mean\n",
    "))\n",
    "print(\"-----------------\")\n",
    "# average income \n",
    "# by Have you ever tried to meet up with hometown friends on Thanksgiving night? and Have you ever attended a \"Friendsgiving?\n",
    "print(data.pivot_table(\n",
    "    index=\"Have you ever tried to meet up with hometown friends on Thanksgiving night?\", \n",
    "    columns='Have you ever attended a \"Friendsgiving?\"',\n",
    "    values=\"int_income\",\n",
    "    aggfunc=np.mean\n",
    "))"
   ]
  },
  {
   "cell_type": "code",
   "execution_count": null,
   "metadata": {
    "collapsed": true
   },
   "outputs": [],
   "source": []
  }
 ],
 "metadata": {
  "kernelspec": {
   "display_name": "Python 3",
   "language": "python",
   "name": "python3"
  },
  "language_info": {
   "codemirror_mode": {
    "name": "ipython",
    "version": 3
   },
   "file_extension": ".py",
   "mimetype": "text/x-python",
   "name": "python",
   "nbconvert_exporter": "python",
   "pygments_lexer": "ipython3",
   "version": "3.4.3"
  }
 },
 "nbformat": 4,
 "nbformat_minor": 0
}
